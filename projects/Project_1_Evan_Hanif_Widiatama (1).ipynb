{
  "nbformat": 4,
  "nbformat_minor": 0,
  "metadata": {
    "colab": {
      "provenance": []
    },
    "kernelspec": {
      "name": "python3",
      "display_name": "Python 3"
    },
    "language_info": {
      "name": "python"
    },
    "accelerator": "GPU",
    "gpuClass": "standard"
  },
  "cells": [
    {
      "cell_type": "code",
      "execution_count": null,
      "metadata": {
        "id": "kHyecYO0qxsz",
        "colab": {
          "base_uri": "https://localhost:8080/"
        },
        "outputId": "aae46cda-15ae-46b6-bda0-576e3444c169"
      },
      "outputs": [
        {
          "output_type": "stream",
          "name": "stdout",
          "text": [
            "<class 'pandas.core.frame.DataFrame'>\n",
            "RangeIndex: 11370 entries, 0 to 11369\n",
            "Data columns (total 5 columns):\n",
            " #   Column    Non-Null Count  Dtype \n",
            "---  ------    --------------  ----- \n",
            " 0   id        11370 non-null  int64 \n",
            " 1   keyword   11370 non-null  object\n",
            " 2   location  7952 non-null   object\n",
            " 3   text      11370 non-null  object\n",
            " 4   target    11370 non-null  int64 \n",
            "dtypes: int64(2), object(3)\n",
            "memory usage: 444.3+ KB\n"
          ]
        }
      ],
      "source": [
        "import pandas as pd\n",
        "df = pd.read_csv('tweets.csv')\n",
        "df.info()"
      ]
    },
    {
      "cell_type": "code",
      "source": [
        "df.head() #Deskripsi dataset"
      ],
      "metadata": {
        "colab": {
          "base_uri": "https://localhost:8080/",
          "height": 206
        },
        "id": "gFjCgKuztViB",
        "outputId": "90cef44f-3339-4a40-c66f-0320d48252cb"
      },
      "execution_count": null,
      "outputs": [
        {
          "output_type": "execute_result",
          "data": {
            "text/plain": [
              "   id keyword        location  \\\n",
              "0   0  ablaze             NaN   \n",
              "1   1  ablaze             NaN   \n",
              "2   2  ablaze   New York City   \n",
              "3   3  ablaze  Morgantown, WV   \n",
              "4   4  ablaze             NaN   \n",
              "\n",
              "                                                text  target  \n",
              "0  Communal violence in Bhainsa, Telangana. \"Ston...       1  \n",
              "1  Telangana: Section 144 has been imposed in Bha...       1  \n",
              "2  Arsonist sets cars ablaze at dealership https:...       1  \n",
              "3  Arsonist sets cars ablaze at dealership https:...       1  \n",
              "4  \"Lord Jesus, your love brings freedom and pard...       0  "
            ],
            "text/html": [
              "\n",
              "  <div id=\"df-8e7422ba-990a-4c66-b22e-45d5a4638543\">\n",
              "    <div class=\"colab-df-container\">\n",
              "      <div>\n",
              "<style scoped>\n",
              "    .dataframe tbody tr th:only-of-type {\n",
              "        vertical-align: middle;\n",
              "    }\n",
              "\n",
              "    .dataframe tbody tr th {\n",
              "        vertical-align: top;\n",
              "    }\n",
              "\n",
              "    .dataframe thead th {\n",
              "        text-align: right;\n",
              "    }\n",
              "</style>\n",
              "<table border=\"1\" class=\"dataframe\">\n",
              "  <thead>\n",
              "    <tr style=\"text-align: right;\">\n",
              "      <th></th>\n",
              "      <th>id</th>\n",
              "      <th>keyword</th>\n",
              "      <th>location</th>\n",
              "      <th>text</th>\n",
              "      <th>target</th>\n",
              "    </tr>\n",
              "  </thead>\n",
              "  <tbody>\n",
              "    <tr>\n",
              "      <th>0</th>\n",
              "      <td>0</td>\n",
              "      <td>ablaze</td>\n",
              "      <td>NaN</td>\n",
              "      <td>Communal violence in Bhainsa, Telangana. \"Ston...</td>\n",
              "      <td>1</td>\n",
              "    </tr>\n",
              "    <tr>\n",
              "      <th>1</th>\n",
              "      <td>1</td>\n",
              "      <td>ablaze</td>\n",
              "      <td>NaN</td>\n",
              "      <td>Telangana: Section 144 has been imposed in Bha...</td>\n",
              "      <td>1</td>\n",
              "    </tr>\n",
              "    <tr>\n",
              "      <th>2</th>\n",
              "      <td>2</td>\n",
              "      <td>ablaze</td>\n",
              "      <td>New York City</td>\n",
              "      <td>Arsonist sets cars ablaze at dealership https:...</td>\n",
              "      <td>1</td>\n",
              "    </tr>\n",
              "    <tr>\n",
              "      <th>3</th>\n",
              "      <td>3</td>\n",
              "      <td>ablaze</td>\n",
              "      <td>Morgantown, WV</td>\n",
              "      <td>Arsonist sets cars ablaze at dealership https:...</td>\n",
              "      <td>1</td>\n",
              "    </tr>\n",
              "    <tr>\n",
              "      <th>4</th>\n",
              "      <td>4</td>\n",
              "      <td>ablaze</td>\n",
              "      <td>NaN</td>\n",
              "      <td>\"Lord Jesus, your love brings freedom and pard...</td>\n",
              "      <td>0</td>\n",
              "    </tr>\n",
              "  </tbody>\n",
              "</table>\n",
              "</div>\n",
              "      <button class=\"colab-df-convert\" onclick=\"convertToInteractive('df-8e7422ba-990a-4c66-b22e-45d5a4638543')\"\n",
              "              title=\"Convert this dataframe to an interactive table.\"\n",
              "              style=\"display:none;\">\n",
              "        \n",
              "  <svg xmlns=\"http://www.w3.org/2000/svg\" height=\"24px\"viewBox=\"0 0 24 24\"\n",
              "       width=\"24px\">\n",
              "    <path d=\"M0 0h24v24H0V0z\" fill=\"none\"/>\n",
              "    <path d=\"M18.56 5.44l.94 2.06.94-2.06 2.06-.94-2.06-.94-.94-2.06-.94 2.06-2.06.94zm-11 1L8.5 8.5l.94-2.06 2.06-.94-2.06-.94L8.5 2.5l-.94 2.06-2.06.94zm10 10l.94 2.06.94-2.06 2.06-.94-2.06-.94-.94-2.06-.94 2.06-2.06.94z\"/><path d=\"M17.41 7.96l-1.37-1.37c-.4-.4-.92-.59-1.43-.59-.52 0-1.04.2-1.43.59L10.3 9.45l-7.72 7.72c-.78.78-.78 2.05 0 2.83L4 21.41c.39.39.9.59 1.41.59.51 0 1.02-.2 1.41-.59l7.78-7.78 2.81-2.81c.8-.78.8-2.07 0-2.86zM5.41 20L4 18.59l7.72-7.72 1.47 1.35L5.41 20z\"/>\n",
              "  </svg>\n",
              "      </button>\n",
              "      \n",
              "  <style>\n",
              "    .colab-df-container {\n",
              "      display:flex;\n",
              "      flex-wrap:wrap;\n",
              "      gap: 12px;\n",
              "    }\n",
              "\n",
              "    .colab-df-convert {\n",
              "      background-color: #E8F0FE;\n",
              "      border: none;\n",
              "      border-radius: 50%;\n",
              "      cursor: pointer;\n",
              "      display: none;\n",
              "      fill: #1967D2;\n",
              "      height: 32px;\n",
              "      padding: 0 0 0 0;\n",
              "      width: 32px;\n",
              "    }\n",
              "\n",
              "    .colab-df-convert:hover {\n",
              "      background-color: #E2EBFA;\n",
              "      box-shadow: 0px 1px 2px rgba(60, 64, 67, 0.3), 0px 1px 3px 1px rgba(60, 64, 67, 0.15);\n",
              "      fill: #174EA6;\n",
              "    }\n",
              "\n",
              "    [theme=dark] .colab-df-convert {\n",
              "      background-color: #3B4455;\n",
              "      fill: #D2E3FC;\n",
              "    }\n",
              "\n",
              "    [theme=dark] .colab-df-convert:hover {\n",
              "      background-color: #434B5C;\n",
              "      box-shadow: 0px 1px 3px 1px rgba(0, 0, 0, 0.15);\n",
              "      filter: drop-shadow(0px 1px 2px rgba(0, 0, 0, 0.3));\n",
              "      fill: #FFFFFF;\n",
              "    }\n",
              "  </style>\n",
              "\n",
              "      <script>\n",
              "        const buttonEl =\n",
              "          document.querySelector('#df-8e7422ba-990a-4c66-b22e-45d5a4638543 button.colab-df-convert');\n",
              "        buttonEl.style.display =\n",
              "          google.colab.kernel.accessAllowed ? 'block' : 'none';\n",
              "\n",
              "        async function convertToInteractive(key) {\n",
              "          const element = document.querySelector('#df-8e7422ba-990a-4c66-b22e-45d5a4638543');\n",
              "          const dataTable =\n",
              "            await google.colab.kernel.invokeFunction('convertToInteractive',\n",
              "                                                     [key], {});\n",
              "          if (!dataTable) return;\n",
              "\n",
              "          const docLinkHtml = 'Like what you see? Visit the ' +\n",
              "            '<a target=\"_blank\" href=https://colab.research.google.com/notebooks/data_table.ipynb>data table notebook</a>'\n",
              "            + ' to learn more about interactive tables.';\n",
              "          element.innerHTML = '';\n",
              "          dataTable['output_type'] = 'display_data';\n",
              "          await google.colab.output.renderOutput(dataTable, element);\n",
              "          const docLink = document.createElement('div');\n",
              "          docLink.innerHTML = docLinkHtml;\n",
              "          element.appendChild(docLink);\n",
              "        }\n",
              "      </script>\n",
              "    </div>\n",
              "  </div>\n",
              "  "
            ]
          },
          "metadata": {},
          "execution_count": 2
        }
      ]
    },
    {
      "cell_type": "code",
      "source": [
        "df = df.drop(columns=['id', 'keyword', 'location'], axis=1) #menghapus kolom id, keyword, dan location karena tidak digunakan untuk analisis"
      ],
      "metadata": {
        "id": "au9cFl1NtZdt"
      },
      "execution_count": null,
      "outputs": []
    },
    {
      "cell_type": "code",
      "source": [
        "text = df['text'].values #menggunakan kolom teks untuk atribut lalu mengubahnya ke np array\n",
        "label = df['target'].values #menggunakan kolom target untuk label lalu mengubahnya ke np array"
      ],
      "metadata": {
        "id": "pE4cYOCiuEmM"
      },
      "execution_count": null,
      "outputs": []
    },
    {
      "cell_type": "code",
      "source": [
        "import re\n",
        "\n",
        "df['text'] = df['text'].map(lambda x: re.sub(r'\\W+', ' ', x)) #menghapus special karakter"
      ],
      "metadata": {
        "id": "jcmPd8b3wddP"
      },
      "execution_count": null,
      "outputs": []
    },
    {
      "cell_type": "code",
      "source": [
        "from sklearn.model_selection import train_test_split\n",
        "\n",
        "text_train, text_test, label_train, label_test = train_test_split(text, label, test_size=0.2) #split train dan test sebanyak 0.2 untuk test data"
      ],
      "metadata": {
        "id": "1T_OutGDuSRB"
      },
      "execution_count": null,
      "outputs": []
    },
    {
      "cell_type": "code",
      "source": [
        "from tensorflow.keras.preprocessing.text import Tokenizer\n",
        "from tensorflow.keras.preprocessing.sequence import pad_sequences"
      ],
      "metadata": {
        "id": "PCwzngfkvT1c"
      },
      "execution_count": null,
      "outputs": []
    },
    {
      "cell_type": "code",
      "source": [
        "tokenizer = Tokenizer(num_words=5000, oov_token='x')\n",
        "tokenizer.fit_on_texts(text_train)\n",
        "tokenizer.fit_on_texts(text_test)\n",
        "\n",
        "sekuens_train = tokenizer.texts_to_sequences(text_train)\n",
        "sekuens_test = tokenizer.texts_to_sequences(text_test)\n",
        " \n",
        "padded_train = pad_sequences(sekuens_train) \n",
        "padded_test = pad_sequences(sekuens_test)"
      ],
      "metadata": {
        "id": "-04JQL0evem9"
      },
      "execution_count": null,
      "outputs": []
    },
    {
      "cell_type": "code",
      "source": [
        "import tensorflow as tf\n",
        "from tensorflow.keras.layers import LSTM,Dense,Embedding,Dropout\n",
        "model = tf.keras.Sequential([\n",
        "    tf.keras.layers.Embedding(input_dim=5000, output_dim=16),\n",
        "    tf.keras.layers.LSTM(64),\n",
        "    tf.keras.layers.Dense(128, activation='relu'),\n",
        "    tf.keras.layers.Dense(64, activation='relu'),\n",
        "    Dropout(0.5),\n",
        "    tf.keras.layers.Dense(1, activation='sigmoid')\n",
        "])\n",
        "model.compile(loss='binary_crossentropy',optimizer='adam',metrics=['accuracy'])"
      ],
      "metadata": {
        "id": "u2M-erGDxh_w"
      },
      "execution_count": null,
      "outputs": []
    },
    {
      "cell_type": "code",
      "source": [
        "class myCallback(tf.keras.callbacks.Callback):\n",
        "  def on_epoch_end(self, epoch, logs={}):\n",
        "    if(logs.get('accuracy')>0.98 and logs.get('val_accuracy')>0.98):\n",
        "      print(\"\\nAkurasi train dan validasi didapat telah mencapai nilai > 98%!\")\n",
        "      self.model.stop_training = True\n",
        "callbacks = myCallback() #membuat callback"
      ],
      "metadata": {
        "id": "SPRg6Qv6x938"
      },
      "execution_count": null,
      "outputs": []
    },
    {
      "cell_type": "code",
      "source": [
        "num_epochs = 30\n",
        "history = model.fit(padded_train, label_train, epochs=num_epochs, validation_data=(padded_test, label_test), verbose=2, callbacks=[callbacks])"
      ],
      "metadata": {
        "colab": {
          "base_uri": "https://localhost:8080/"
        },
        "id": "T536XhRryEfT",
        "outputId": "9716ed81-b699-4a62-fb66-79e8d28fc9ea"
      },
      "execution_count": null,
      "outputs": [
        {
          "output_type": "stream",
          "name": "stdout",
          "text": [
            "Epoch 1/30\n",
            "285/285 - 2s - loss: 0.2258 - accuracy: 0.9192 - val_loss: 0.3044 - val_accuracy: 0.8852 - 2s/epoch - 6ms/step\n",
            "Epoch 2/30\n",
            "285/285 - 2s - loss: 0.1648 - accuracy: 0.9398 - val_loss: 0.3631 - val_accuracy: 0.8835 - 2s/epoch - 6ms/step\n",
            "Epoch 3/30\n",
            "285/285 - 2s - loss: 0.1217 - accuracy: 0.9567 - val_loss: 0.4024 - val_accuracy: 0.8830 - 2s/epoch - 6ms/step\n",
            "Epoch 4/30\n",
            "285/285 - 2s - loss: 0.0972 - accuracy: 0.9665 - val_loss: 0.4802 - val_accuracy: 0.8826 - 2s/epoch - 6ms/step\n",
            "Epoch 5/30\n",
            "285/285 - 2s - loss: 0.0652 - accuracy: 0.9793 - val_loss: 0.5707 - val_accuracy: 0.8777 - 2s/epoch - 6ms/step\n",
            "Epoch 6/30\n",
            "285/285 - 2s - loss: 0.0520 - accuracy: 0.9819 - val_loss: 0.6607 - val_accuracy: 0.8729 - 2s/epoch - 6ms/step\n",
            "Epoch 7/30\n",
            "285/285 - 2s - loss: 0.0404 - accuracy: 0.9865 - val_loss: 0.7799 - val_accuracy: 0.8773 - 2s/epoch - 6ms/step\n",
            "Epoch 8/30\n",
            "285/285 - 2s - loss: 0.0312 - accuracy: 0.9893 - val_loss: 0.7238 - val_accuracy: 0.8764 - 2s/epoch - 6ms/step\n",
            "Epoch 9/30\n",
            "285/285 - 2s - loss: 0.0251 - accuracy: 0.9930 - val_loss: 0.8880 - val_accuracy: 0.8716 - 2s/epoch - 6ms/step\n",
            "Epoch 10/30\n",
            "285/285 - 2s - loss: 0.0259 - accuracy: 0.9911 - val_loss: 0.9158 - val_accuracy: 0.8685 - 2s/epoch - 6ms/step\n",
            "Epoch 11/30\n",
            "285/285 - 2s - loss: 0.0163 - accuracy: 0.9952 - val_loss: 1.0552 - val_accuracy: 0.8712 - 2s/epoch - 6ms/step\n",
            "Epoch 12/30\n",
            "285/285 - 2s - loss: 0.0148 - accuracy: 0.9967 - val_loss: 1.0928 - val_accuracy: 0.8720 - 2s/epoch - 6ms/step\n",
            "Epoch 13/30\n",
            "285/285 - 2s - loss: 0.0109 - accuracy: 0.9980 - val_loss: 1.2750 - val_accuracy: 0.8681 - 2s/epoch - 7ms/step\n",
            "Epoch 14/30\n",
            "285/285 - 2s - loss: 0.0099 - accuracy: 0.9974 - val_loss: 1.3946 - val_accuracy: 0.8694 - 2s/epoch - 6ms/step\n",
            "Epoch 15/30\n",
            "285/285 - 2s - loss: 0.0150 - accuracy: 0.9965 - val_loss: 1.0390 - val_accuracy: 0.8707 - 2s/epoch - 6ms/step\n",
            "Epoch 16/30\n",
            "285/285 - 2s - loss: 0.0150 - accuracy: 0.9958 - val_loss: 0.9212 - val_accuracy: 0.8738 - 2s/epoch - 6ms/step\n",
            "Epoch 17/30\n",
            "285/285 - 2s - loss: 0.0116 - accuracy: 0.9963 - val_loss: 1.3624 - val_accuracy: 0.8575 - 2s/epoch - 6ms/step\n",
            "Epoch 18/30\n",
            "285/285 - 2s - loss: 0.0087 - accuracy: 0.9977 - val_loss: 1.3805 - val_accuracy: 0.8698 - 2s/epoch - 6ms/step\n",
            "Epoch 19/30\n",
            "285/285 - 2s - loss: 0.0095 - accuracy: 0.9978 - val_loss: 1.2780 - val_accuracy: 0.8751 - 2s/epoch - 6ms/step\n",
            "Epoch 20/30\n",
            "285/285 - 2s - loss: 0.0081 - accuracy: 0.9984 - val_loss: 1.6434 - val_accuracy: 0.8672 - 2s/epoch - 6ms/step\n",
            "Epoch 21/30\n",
            "285/285 - 2s - loss: 0.0107 - accuracy: 0.9969 - val_loss: 1.1982 - val_accuracy: 0.8654 - 2s/epoch - 6ms/step\n",
            "Epoch 22/30\n",
            "285/285 - 2s - loss: 0.0087 - accuracy: 0.9976 - val_loss: 1.3508 - val_accuracy: 0.8654 - 2s/epoch - 6ms/step\n",
            "Epoch 23/30\n",
            "285/285 - 2s - loss: 0.0077 - accuracy: 0.9973 - val_loss: 1.0434 - val_accuracy: 0.8544 - 2s/epoch - 6ms/step\n",
            "Epoch 24/30\n",
            "285/285 - 2s - loss: 0.0126 - accuracy: 0.9960 - val_loss: 1.1948 - val_accuracy: 0.8690 - 2s/epoch - 6ms/step\n",
            "Epoch 25/30\n",
            "285/285 - 2s - loss: 0.0113 - accuracy: 0.9958 - val_loss: 1.1480 - val_accuracy: 0.8703 - 2s/epoch - 6ms/step\n",
            "Epoch 26/30\n",
            "285/285 - 2s - loss: 0.0087 - accuracy: 0.9974 - val_loss: 1.3194 - val_accuracy: 0.8571 - 2s/epoch - 6ms/step\n",
            "Epoch 27/30\n",
            "285/285 - 2s - loss: 0.0039 - accuracy: 0.9984 - val_loss: 1.6992 - val_accuracy: 0.8729 - 2s/epoch - 6ms/step\n",
            "Epoch 28/30\n",
            "285/285 - 2s - loss: 0.0023 - accuracy: 0.9989 - val_loss: 1.9828 - val_accuracy: 0.8698 - 2s/epoch - 6ms/step\n",
            "Epoch 29/30\n",
            "285/285 - 2s - loss: 0.0051 - accuracy: 0.9978 - val_loss: 1.8709 - val_accuracy: 0.8654 - 2s/epoch - 6ms/step\n",
            "Epoch 30/30\n",
            "285/285 - 2s - loss: 0.0064 - accuracy: 0.9973 - val_loss: 1.6519 - val_accuracy: 0.8632 - 2s/epoch - 6ms/step\n"
          ]
        }
      ]
    },
    {
      "cell_type": "code",
      "source": [
        "import matplotlib.pyplot as plt\n",
        "\n",
        "# Plot Accuracy\n",
        "plt.plot(history.history['accuracy'])\n",
        "plt.plot(history.history['val_accuracy'])\n",
        "plt.title('Akurasi Model')\n",
        "plt.ylabel('accuracy')\n",
        "plt.xlabel('epoch')\n",
        "plt.legend(['train', 'test'], loc='upper left')\n",
        "plt.show()\n",
        "\n",
        "# Plot Loss\n",
        "plt.plot(history.history['loss'])\n",
        "plt.plot(history.history['val_loss'])\n",
        "plt.title('Loss Model')\n",
        "plt.ylabel('loss')\n",
        "plt.xlabel('epoch')\n",
        "plt.legend(['train', 'test'], loc='upper left')\n",
        "plt.show()"
      ],
      "metadata": {
        "colab": {
          "base_uri": "https://localhost:8080/",
          "height": 573
        },
        "id": "iZ8LtNI99ZW1",
        "outputId": "eff63608-0dbd-46f0-b8a6-c0935a433fbd"
      },
      "execution_count": null,
      "outputs": [
        {
          "output_type": "display_data",
          "data": {
            "text/plain": [
              "<Figure size 432x288 with 1 Axes>"
            ],
            "image/png": "[encoded data removed]"
          },
          "metadata": {
            "needs_background": "light"
          }
        },
        {
          "output_type": "display_data",
          "data": {
            "text/plain": [
              "<Figure size 432x288 with 1 Axes>"
            ],
            "image/png": "[encoded data removed]"
          },
          "metadata": {
            "needs_background": "light"
          }
        }
      ]
    }
  ]
}